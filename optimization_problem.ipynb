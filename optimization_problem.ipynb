{
  "nbformat": 4,
  "nbformat_minor": 0,
  "metadata": {
    "colab": {
      "name": "optimization_problem.ipynb",
      "provenance": [],
      "authorship_tag": "ABX9TyOwlcnv9aeR4FaDGGaEOyaD",
      "include_colab_link": true
    },
    "kernelspec": {
      "name": "python3",
      "display_name": "Python 3"
    }
  },
  "cells": [
    {
      "cell_type": "markdown",
      "metadata": {
        "id": "view-in-github",
        "colab_type": "text"
      },
      "source": [
        "<a href=\"https://colab.research.google.com/github/yanghaopy/notes/blob/convex-optimization/optimization_problem.ipynb\" target=\"_parent\"><img src=\"https://colab.research.google.com/assets/colab-badge.svg\" alt=\"Open In Colab\"/></a>"
      ]
    },
    {
      "cell_type": "markdown",
      "metadata": {
        "id": "xGt-cvE4mSzZ"
      },
      "source": [
        "- optimization\n",
        "$$\n",
        "\\begin{align}\n",
        "& minimize \\enspace f_0(x)\\\\\n",
        "& subject \\; to f_i(x) \\leq b_i, i=1,...,m\\\\\n",
        "& x = (x_1, ..., x_n)\\\\\n",
        "& f_0: R^n \\rightarrow R\\\\\n",
        "& f_i: R^n \\rightarrow R, i=1,...,m\\\\\n",
        "& arg \\; min \\; f_0(x_i) := x^*\n",
        "\\end{align}\n",
        "$$\n",
        "- convex optimization problem \\\\\n",
        "its constriants satisfy \\\\\n",
        "$$\n",
        "\\begin{align}\n",
        "& f_i(\\alpha x + \\beta y) \\leq \\alpha f_i(x) + \\beta f_i(x),\\\\\n",
        "& \\alpha + \\beta = 1, \\alpha \\geq 0, \\beta \\geq 0\\\\\n",
        "\\end{align}\n",
        "$$\n",
        "- nolinear programming\n",
        "\n",
        "\n"
      ]
    }
  ]
}